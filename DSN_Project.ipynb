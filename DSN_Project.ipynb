{
 "cells": [
  {
   "cell_type": "markdown",
   "id": "66476e0a-e22d-4178-94e7-c5572c4ff7b5",
   "metadata": {},
   "source": [
    "# DSN COHORT 2 PROJECT"
   ]
  },
  {
   "cell_type": "markdown",
   "id": "0aa6a005-b2ed-426e-b920-2f87cd2b4158",
   "metadata": {},
   "source": [
    "### Import Libraries"
   ]
  },
  {
   "cell_type": "code",
   "execution_count": 1,
   "id": "78fdd0bd-6840-4fe3-83ed-ae17bfc80344",
   "metadata": {},
   "outputs": [],
   "source": [
    "import numpy as np\n",
    "import pandas as pd\n",
    "import matplotlib.pyplot as plt\n",
    "import seaborn as sns\n",
    "from sklearn.model_selection import train_test_split\n",
    "from sklearn.linear_model import LogisticRegression\n",
    "from sklearn.ensemble import RandomForestClassifier\n",
    "from sklearn.tree import DecisionTreeClassifier\n",
    "from xgboost import XGBClassifier\n",
    "from sklearn.ensemble import ExtraTreesClassifier"
   ]
  },
  {
   "cell_type": "markdown",
   "id": "b9f58f0a-894c-41ba-b7e5-7fe7f318c1ed",
   "metadata": {},
   "source": [
    "### Load data"
   ]
  },
  {
   "cell_type": "code",
   "execution_count": 2,
   "id": "8cfac106-1178-4c91-9718-d7c9cd54e542",
   "metadata": {},
   "outputs": [],
   "source": [
    "train_path = \"train.csv\"\n",
    "trainDf = pd.read_csv(train_path)"
   ]
  },
  {
   "cell_type": "code",
   "execution_count": 3,
   "id": "1f52532a-6a80-46cd-9dd0-d063d8803618",
   "metadata": {},
   "outputs": [
    {
     "data": {
      "text/html": [
       "<div>\n",
       "<style scoped>\n",
       "    .dataframe tbody tr th:only-of-type {\n",
       "        vertical-align: middle;\n",
       "    }\n",
       "\n",
       "    .dataframe tbody tr th {\n",
       "        vertical-align: top;\n",
       "    }\n",
       "\n",
       "    .dataframe thead th {\n",
       "        text-align: right;\n",
       "    }\n",
       "</style>\n",
       "<table border=\"1\" class=\"dataframe\">\n",
       "  <thead>\n",
       "    <tr style=\"text-align: right;\">\n",
       "      <th></th>\n",
       "      <th>ID</th>\n",
       "      <th>Datetime</th>\n",
       "      <th>Sensor1_PM2.5</th>\n",
       "      <th>Sensor2_PM2.5</th>\n",
       "      <th>Temperature</th>\n",
       "      <th>Relative_Humidity</th>\n",
       "      <th>Offset_fault</th>\n",
       "    </tr>\n",
       "  </thead>\n",
       "  <tbody>\n",
       "    <tr>\n",
       "      <th>0</th>\n",
       "      <td>ID_QF0ZTQJ2SF5Q</td>\n",
       "      <td>2021-11-03 04:06:31</td>\n",
       "      <td>52.58</td>\n",
       "      <td>49.52</td>\n",
       "      <td>17.4</td>\n",
       "      <td>96.0</td>\n",
       "      <td>0</td>\n",
       "    </tr>\n",
       "    <tr>\n",
       "      <th>1</th>\n",
       "      <td>ID_4GTK689CNX5S</td>\n",
       "      <td>2021-11-08 18:43:23</td>\n",
       "      <td>35.25</td>\n",
       "      <td>33.40</td>\n",
       "      <td>25.0</td>\n",
       "      <td>75.0</td>\n",
       "      <td>0</td>\n",
       "    </tr>\n",
       "    <tr>\n",
       "      <th>2</th>\n",
       "      <td>ID_DL7VVKW9U7XQ</td>\n",
       "      <td>2021-11-07 09:50:33</td>\n",
       "      <td>19.18</td>\n",
       "      <td>23.50</td>\n",
       "      <td>24.9</td>\n",
       "      <td>75.0</td>\n",
       "      <td>0</td>\n",
       "    </tr>\n",
       "    <tr>\n",
       "      <th>3</th>\n",
       "      <td>ID_6XQOMBXM2DG3</td>\n",
       "      <td>2022-01-01 18:55:15</td>\n",
       "      <td>19.40</td>\n",
       "      <td>15.48</td>\n",
       "      <td>24.9</td>\n",
       "      <td>70.0</td>\n",
       "      <td>0</td>\n",
       "    </tr>\n",
       "    <tr>\n",
       "      <th>4</th>\n",
       "      <td>ID_UQZW9ISJY9QE</td>\n",
       "      <td>2021-11-05 22:23:48</td>\n",
       "      <td>38.30</td>\n",
       "      <td>34.77</td>\n",
       "      <td>20.9</td>\n",
       "      <td>89.0</td>\n",
       "      <td>0</td>\n",
       "    </tr>\n",
       "  </tbody>\n",
       "</table>\n",
       "</div>"
      ],
      "text/plain": [
       "                ID             Datetime  Sensor1_PM2.5  Sensor2_PM2.5  \\\n",
       "0  ID_QF0ZTQJ2SF5Q  2021-11-03 04:06:31          52.58          49.52   \n",
       "1  ID_4GTK689CNX5S  2021-11-08 18:43:23          35.25          33.40   \n",
       "2  ID_DL7VVKW9U7XQ  2021-11-07 09:50:33          19.18          23.50   \n",
       "3  ID_6XQOMBXM2DG3  2022-01-01 18:55:15          19.40          15.48   \n",
       "4  ID_UQZW9ISJY9QE  2021-11-05 22:23:48          38.30          34.77   \n",
       "\n",
       "   Temperature  Relative_Humidity  Offset_fault  \n",
       "0         17.4               96.0             0  \n",
       "1         25.0               75.0             0  \n",
       "2         24.9               75.0             0  \n",
       "3         24.9               70.0             0  \n",
       "4         20.9               89.0             0  "
      ]
     },
     "execution_count": 3,
     "metadata": {},
     "output_type": "execute_result"
    }
   ],
   "source": [
    "trainDf.head()"
   ]
  },
  {
   "cell_type": "code",
   "execution_count": 4,
   "id": "46698bfe-947b-4b76-92d4-1e1d61c23c2e",
   "metadata": {},
   "outputs": [],
   "source": [
    "test_path = \"test.csv\"\n",
    "testDf = pd.read_csv(test_path)"
   ]
  },
  {
   "cell_type": "code",
   "execution_count": 5,
   "id": "d4d3896d-d9ba-4a49-a1f3-fd8ce092ac5a",
   "metadata": {},
   "outputs": [
    {
     "data": {
      "text/html": [
       "<div>\n",
       "<style scoped>\n",
       "    .dataframe tbody tr th:only-of-type {\n",
       "        vertical-align: middle;\n",
       "    }\n",
       "\n",
       "    .dataframe tbody tr th {\n",
       "        vertical-align: top;\n",
       "    }\n",
       "\n",
       "    .dataframe thead th {\n",
       "        text-align: right;\n",
       "    }\n",
       "</style>\n",
       "<table border=\"1\" class=\"dataframe\">\n",
       "  <thead>\n",
       "    <tr style=\"text-align: right;\">\n",
       "      <th></th>\n",
       "      <th>ID</th>\n",
       "      <th>Datetime</th>\n",
       "      <th>Sensor1_PM2.5</th>\n",
       "      <th>Sensor2_PM2.5</th>\n",
       "      <th>Temperature</th>\n",
       "      <th>Relative_Humidity</th>\n",
       "    </tr>\n",
       "  </thead>\n",
       "  <tbody>\n",
       "    <tr>\n",
       "      <th>0</th>\n",
       "      <td>ID_STL3V9B2OU12</td>\n",
       "      <td>2022-01-28 08:49:41</td>\n",
       "      <td>90.75</td>\n",
       "      <td>114.78</td>\n",
       "      <td>22.2</td>\n",
       "      <td>56.0</td>\n",
       "    </tr>\n",
       "    <tr>\n",
       "      <th>1</th>\n",
       "      <td>ID_U2EKAY4SGA94</td>\n",
       "      <td>2022-02-16 21:30:17</td>\n",
       "      <td>56.03</td>\n",
       "      <td>52.18</td>\n",
       "      <td>NaN</td>\n",
       "      <td>NaN</td>\n",
       "    </tr>\n",
       "    <tr>\n",
       "      <th>2</th>\n",
       "      <td>ID_UJFLEWQR0U4N</td>\n",
       "      <td>2022-01-24 17:57:18</td>\n",
       "      <td>387.35</td>\n",
       "      <td>346.73</td>\n",
       "      <td>28.1</td>\n",
       "      <td>63.0</td>\n",
       "    </tr>\n",
       "    <tr>\n",
       "      <th>3</th>\n",
       "      <td>ID_S2C2GPGA4R5I</td>\n",
       "      <td>2022-01-31 07:07:09</td>\n",
       "      <td>63.17</td>\n",
       "      <td>83.85</td>\n",
       "      <td>21.6</td>\n",
       "      <td>82.0</td>\n",
       "    </tr>\n",
       "    <tr>\n",
       "      <th>4</th>\n",
       "      <td>ID_5V2C2ZL221H8</td>\n",
       "      <td>2022-01-31 00:37:05</td>\n",
       "      <td>69.23</td>\n",
       "      <td>53.07</td>\n",
       "      <td>22.7</td>\n",
       "      <td>80.0</td>\n",
       "    </tr>\n",
       "  </tbody>\n",
       "</table>\n",
       "</div>"
      ],
      "text/plain": [
       "                ID             Datetime  Sensor1_PM2.5  Sensor2_PM2.5  \\\n",
       "0  ID_STL3V9B2OU12  2022-01-28 08:49:41          90.75         114.78   \n",
       "1  ID_U2EKAY4SGA94  2022-02-16 21:30:17          56.03          52.18   \n",
       "2  ID_UJFLEWQR0U4N  2022-01-24 17:57:18         387.35         346.73   \n",
       "3  ID_S2C2GPGA4R5I  2022-01-31 07:07:09          63.17          83.85   \n",
       "4  ID_5V2C2ZL221H8  2022-01-31 00:37:05          69.23          53.07   \n",
       "\n",
       "   Temperature  Relative_Humidity  \n",
       "0         22.2               56.0  \n",
       "1          NaN                NaN  \n",
       "2         28.1               63.0  \n",
       "3         21.6               82.0  \n",
       "4         22.7               80.0  "
      ]
     },
     "execution_count": 5,
     "metadata": {},
     "output_type": "execute_result"
    }
   ],
   "source": [
    "testDf.head()"
   ]
  },
  {
   "cell_type": "code",
   "execution_count": 6,
   "id": "dd2fffcf-7cf0-43d3-9b7c-509b856187a2",
   "metadata": {},
   "outputs": [
    {
     "data": {
      "text/html": [
       "<div>\n",
       "<style scoped>\n",
       "    .dataframe tbody tr th:only-of-type {\n",
       "        vertical-align: middle;\n",
       "    }\n",
       "\n",
       "    .dataframe tbody tr th {\n",
       "        vertical-align: top;\n",
       "    }\n",
       "\n",
       "    .dataframe thead th {\n",
       "        text-align: right;\n",
       "    }\n",
       "</style>\n",
       "<table border=\"1\" class=\"dataframe\">\n",
       "  <thead>\n",
       "    <tr style=\"text-align: right;\">\n",
       "      <th></th>\n",
       "      <th>ID</th>\n",
       "      <th>Datetime</th>\n",
       "      <th>Sensor1_PM2.5</th>\n",
       "      <th>Sensor2_PM2.5</th>\n",
       "      <th>Temperature</th>\n",
       "      <th>Relative_Humidity</th>\n",
       "      <th>Offset_fault</th>\n",
       "    </tr>\n",
       "  </thead>\n",
       "  <tbody>\n",
       "    <tr>\n",
       "      <th>count</th>\n",
       "      <td>297177</td>\n",
       "      <td>297177</td>\n",
       "      <td>293563.000000</td>\n",
       "      <td>293563.000000</td>\n",
       "      <td>293628.000000</td>\n",
       "      <td>293628.000000</td>\n",
       "      <td>297177.000000</td>\n",
       "    </tr>\n",
       "    <tr>\n",
       "      <th>unique</th>\n",
       "      <td>297177</td>\n",
       "      <td>293751</td>\n",
       "      <td>NaN</td>\n",
       "      <td>NaN</td>\n",
       "      <td>NaN</td>\n",
       "      <td>NaN</td>\n",
       "      <td>NaN</td>\n",
       "    </tr>\n",
       "    <tr>\n",
       "      <th>top</th>\n",
       "      <td>ID_QF0ZTQJ2SF5Q</td>\n",
       "      <td>2021-11-26 17:23:00</td>\n",
       "      <td>NaN</td>\n",
       "      <td>NaN</td>\n",
       "      <td>NaN</td>\n",
       "      <td>NaN</td>\n",
       "      <td>NaN</td>\n",
       "    </tr>\n",
       "    <tr>\n",
       "      <th>freq</th>\n",
       "      <td>1</td>\n",
       "      <td>3</td>\n",
       "      <td>NaN</td>\n",
       "      <td>NaN</td>\n",
       "      <td>NaN</td>\n",
       "      <td>NaN</td>\n",
       "      <td>NaN</td>\n",
       "    </tr>\n",
       "    <tr>\n",
       "      <th>mean</th>\n",
       "      <td>NaN</td>\n",
       "      <td>NaN</td>\n",
       "      <td>40.751195</td>\n",
       "      <td>38.183018</td>\n",
       "      <td>23.316554</td>\n",
       "      <td>78.653623</td>\n",
       "      <td>0.371072</td>\n",
       "    </tr>\n",
       "    <tr>\n",
       "      <th>std</th>\n",
       "      <td>NaN</td>\n",
       "      <td>NaN</td>\n",
       "      <td>28.526182</td>\n",
       "      <td>28.647761</td>\n",
       "      <td>3.836971</td>\n",
       "      <td>14.772725</td>\n",
       "      <td>0.483092</td>\n",
       "    </tr>\n",
       "    <tr>\n",
       "      <th>min</th>\n",
       "      <td>NaN</td>\n",
       "      <td>NaN</td>\n",
       "      <td>-9.450000</td>\n",
       "      <td>-9.700000</td>\n",
       "      <td>16.700000</td>\n",
       "      <td>27.000000</td>\n",
       "      <td>0.000000</td>\n",
       "    </tr>\n",
       "    <tr>\n",
       "      <th>25%</th>\n",
       "      <td>NaN</td>\n",
       "      <td>NaN</td>\n",
       "      <td>22.430000</td>\n",
       "      <td>19.520000</td>\n",
       "      <td>20.400000</td>\n",
       "      <td>68.000000</td>\n",
       "      <td>0.000000</td>\n",
       "    </tr>\n",
       "    <tr>\n",
       "      <th>50%</th>\n",
       "      <td>NaN</td>\n",
       "      <td>NaN</td>\n",
       "      <td>36.470000</td>\n",
       "      <td>33.720000</td>\n",
       "      <td>21.900000</td>\n",
       "      <td>84.000000</td>\n",
       "      <td>0.000000</td>\n",
       "    </tr>\n",
       "    <tr>\n",
       "      <th>75%</th>\n",
       "      <td>NaN</td>\n",
       "      <td>NaN</td>\n",
       "      <td>49.420000</td>\n",
       "      <td>47.570000</td>\n",
       "      <td>26.300000</td>\n",
       "      <td>91.000000</td>\n",
       "      <td>1.000000</td>\n",
       "    </tr>\n",
       "    <tr>\n",
       "      <th>max</th>\n",
       "      <td>NaN</td>\n",
       "      <td>NaN</td>\n",
       "      <td>997.960000</td>\n",
       "      <td>997.260000</td>\n",
       "      <td>34.900000</td>\n",
       "      <td>99.000000</td>\n",
       "      <td>1.000000</td>\n",
       "    </tr>\n",
       "  </tbody>\n",
       "</table>\n",
       "</div>"
      ],
      "text/plain": [
       "                     ID             Datetime  Sensor1_PM2.5  Sensor2_PM2.5  \\\n",
       "count            297177               297177  293563.000000  293563.000000   \n",
       "unique           297177               293751            NaN            NaN   \n",
       "top     ID_QF0ZTQJ2SF5Q  2021-11-26 17:23:00            NaN            NaN   \n",
       "freq                  1                    3            NaN            NaN   \n",
       "mean                NaN                  NaN      40.751195      38.183018   \n",
       "std                 NaN                  NaN      28.526182      28.647761   \n",
       "min                 NaN                  NaN      -9.450000      -9.700000   \n",
       "25%                 NaN                  NaN      22.430000      19.520000   \n",
       "50%                 NaN                  NaN      36.470000      33.720000   \n",
       "75%                 NaN                  NaN      49.420000      47.570000   \n",
       "max                 NaN                  NaN     997.960000     997.260000   \n",
       "\n",
       "          Temperature  Relative_Humidity   Offset_fault  \n",
       "count   293628.000000      293628.000000  297177.000000  \n",
       "unique            NaN                NaN            NaN  \n",
       "top               NaN                NaN            NaN  \n",
       "freq              NaN                NaN            NaN  \n",
       "mean        23.316554          78.653623       0.371072  \n",
       "std          3.836971          14.772725       0.483092  \n",
       "min         16.700000          27.000000       0.000000  \n",
       "25%         20.400000          68.000000       0.000000  \n",
       "50%         21.900000          84.000000       0.000000  \n",
       "75%         26.300000          91.000000       1.000000  \n",
       "max         34.900000          99.000000       1.000000  "
      ]
     },
     "execution_count": 6,
     "metadata": {},
     "output_type": "execute_result"
    }
   ],
   "source": [
    "trainDf.describe(include = 'all')"
   ]
  },
  {
   "cell_type": "code",
   "execution_count": 7,
   "id": "89e1f5ae-8143-4b44-b924-97be8fdfbbb8",
   "metadata": {},
   "outputs": [
    {
     "name": "stdout",
     "output_type": "stream",
     "text": [
      "<class 'pandas.core.frame.DataFrame'>\n",
      "RangeIndex: 297177 entries, 0 to 297176\n",
      "Data columns (total 7 columns):\n",
      " #   Column             Non-Null Count   Dtype  \n",
      "---  ------             --------------   -----  \n",
      " 0   ID                 297177 non-null  object \n",
      " 1   Datetime           297177 non-null  object \n",
      " 2   Sensor1_PM2.5      293563 non-null  float64\n",
      " 3   Sensor2_PM2.5      293563 non-null  float64\n",
      " 4   Temperature        293628 non-null  float64\n",
      " 5   Relative_Humidity  293628 non-null  float64\n",
      " 6   Offset_fault       297177 non-null  int64  \n",
      "dtypes: float64(4), int64(1), object(2)\n",
      "memory usage: 15.9+ MB\n"
     ]
    }
   ],
   "source": [
    "trainDf.info()"
   ]
  },
  {
   "cell_type": "code",
   "execution_count": 8,
   "id": "297f4473-bb12-419f-ba44-981a5cc010a5",
   "metadata": {},
   "outputs": [
    {
     "name": "stderr",
     "output_type": "stream",
     "text": [
      "C:\\Users\\User\\anaconda3\\lib\\site-packages\\seaborn\\_decorators.py:36: FutureWarning: Pass the following variable as a keyword arg: x. From version 0.12, the only valid positional argument will be `data`, and passing other arguments without an explicit keyword will result in an error or misinterpretation.\n",
      "  warnings.warn(\n"
     ]
    },
    {
     "data": {
      "image/png": "[encoded data removed]",
      "text/plain": [
       "<Figure size 432x288 with 1 Axes>"
      ]
     },
     "metadata": {
      "needs_background": "light"
     },
     "output_type": "display_data"
    }
   ],
   "source": [
    "sns.countplot(trainDf[\"Offset_fault\"])\n",
    "plt.title('Target variable distribution')\n",
    "plt.show()"
   ]
  },
  {
   "cell_type": "code",
   "execution_count": 9,
   "id": "19c79764-8f67-488a-a9d6-c9f2d0d3dc6b",
   "metadata": {},
   "outputs": [
    {
     "data": {
      "text/html": [
       "<div>\n",
       "<style scoped>\n",
       "    .dataframe tbody tr th:only-of-type {\n",
       "        vertical-align: middle;\n",
       "    }\n",
       "\n",
       "    .dataframe tbody tr th {\n",
       "        vertical-align: top;\n",
       "    }\n",
       "\n",
       "    .dataframe thead th {\n",
       "        text-align: right;\n",
       "    }\n",
       "</style>\n",
       "<table border=\"1\" class=\"dataframe\">\n",
       "  <thead>\n",
       "    <tr style=\"text-align: right;\">\n",
       "      <th></th>\n",
       "      <th>Sensor1_PM2.5</th>\n",
       "      <th>Sensor2_PM2.5</th>\n",
       "      <th>Temperature</th>\n",
       "      <th>Relative_Humidity</th>\n",
       "    </tr>\n",
       "  </thead>\n",
       "  <tbody>\n",
       "    <tr>\n",
       "      <th>count</th>\n",
       "      <td>127361.000000</td>\n",
       "      <td>127361.000000</td>\n",
       "      <td>39271.000000</td>\n",
       "      <td>39271.000000</td>\n",
       "    </tr>\n",
       "    <tr>\n",
       "      <th>mean</th>\n",
       "      <td>42.795356</td>\n",
       "      <td>43.958427</td>\n",
       "      <td>23.683838</td>\n",
       "      <td>72.215834</td>\n",
       "    </tr>\n",
       "    <tr>\n",
       "      <th>std</th>\n",
       "      <td>27.838730</td>\n",
       "      <td>28.260335</td>\n",
       "      <td>3.725563</td>\n",
       "      <td>18.078569</td>\n",
       "    </tr>\n",
       "    <tr>\n",
       "      <th>min</th>\n",
       "      <td>1.230000</td>\n",
       "      <td>0.780000</td>\n",
       "      <td>16.900000</td>\n",
       "      <td>28.000000</td>\n",
       "    </tr>\n",
       "    <tr>\n",
       "      <th>25%</th>\n",
       "      <td>24.670000</td>\n",
       "      <td>25.580000</td>\n",
       "      <td>20.900000</td>\n",
       "      <td>58.000000</td>\n",
       "    </tr>\n",
       "    <tr>\n",
       "      <th>50%</th>\n",
       "      <td>39.770000</td>\n",
       "      <td>39.880000</td>\n",
       "      <td>22.500000</td>\n",
       "      <td>78.000000</td>\n",
       "    </tr>\n",
       "    <tr>\n",
       "      <th>75%</th>\n",
       "      <td>52.030000</td>\n",
       "      <td>52.830000</td>\n",
       "      <td>26.500000</td>\n",
       "      <td>88.000000</td>\n",
       "    </tr>\n",
       "    <tr>\n",
       "      <th>max</th>\n",
       "      <td>927.780000</td>\n",
       "      <td>894.750000</td>\n",
       "      <td>34.000000</td>\n",
       "      <td>97.000000</td>\n",
       "    </tr>\n",
       "  </tbody>\n",
       "</table>\n",
       "</div>"
      ],
      "text/plain": [
       "       Sensor1_PM2.5  Sensor2_PM2.5   Temperature  Relative_Humidity\n",
       "count  127361.000000  127361.000000  39271.000000       39271.000000\n",
       "mean       42.795356      43.958427     23.683838          72.215834\n",
       "std        27.838730      28.260335      3.725563          18.078569\n",
       "min         1.230000       0.780000     16.900000          28.000000\n",
       "25%        24.670000      25.580000     20.900000          58.000000\n",
       "50%        39.770000      39.880000     22.500000          78.000000\n",
       "75%        52.030000      52.830000     26.500000          88.000000\n",
       "max       927.780000     894.750000     34.000000          97.000000"
      ]
     },
     "execution_count": 9,
     "metadata": {},
     "output_type": "execute_result"
    }
   ],
   "source": [
    "testDf.describe()"
   ]
  },
  {
   "cell_type": "code",
   "execution_count": 10,
   "id": "2a33cad3-6cc7-42e1-8f55-4c09d8e2712e",
   "metadata": {},
   "outputs": [
    {
     "name": "stdout",
     "output_type": "stream",
     "text": [
      "<class 'pandas.core.frame.DataFrame'>\n",
      "RangeIndex: 127361 entries, 0 to 127360\n",
      "Data columns (total 6 columns):\n",
      " #   Column             Non-Null Count   Dtype  \n",
      "---  ------             --------------   -----  \n",
      " 0   ID                 127361 non-null  object \n",
      " 1   Datetime           127361 non-null  object \n",
      " 2   Sensor1_PM2.5      127361 non-null  float64\n",
      " 3   Sensor2_PM2.5      127361 non-null  float64\n",
      " 4   Temperature        39271 non-null   float64\n",
      " 5   Relative_Humidity  39271 non-null   float64\n",
      "dtypes: float64(4), object(2)\n",
      "memory usage: 5.8+ MB\n"
     ]
    }
   ],
   "source": [
    "testDf.info()"
   ]
  },
  {
   "cell_type": "markdown",
   "id": "a38d34e9-c87d-4d6d-b7be-5264915022d9",
   "metadata": {},
   "source": [
    "#### Concatenate test and train dataframes"
   ]
  },
  {
   "cell_type": "code",
   "execution_count": 11,
   "id": "44e0cfef-b676-4bf1-bbd9-857d2b25a962",
   "metadata": {},
   "outputs": [
    {
     "data": {
      "text/html": [
       "<div>\n",
       "<style scoped>\n",
       "    .dataframe tbody tr th:only-of-type {\n",
       "        vertical-align: middle;\n",
       "    }\n",
       "\n",
       "    .dataframe tbody tr th {\n",
       "        vertical-align: top;\n",
       "    }\n",
       "\n",
       "    .dataframe thead th {\n",
       "        text-align: right;\n",
       "    }\n",
       "</style>\n",
       "<table border=\"1\" class=\"dataframe\">\n",
       "  <thead>\n",
       "    <tr style=\"text-align: right;\">\n",
       "      <th></th>\n",
       "      <th>ID</th>\n",
       "      <th>Datetime</th>\n",
       "      <th>Sensor1_PM2.5</th>\n",
       "      <th>Sensor2_PM2.5</th>\n",
       "      <th>Temperature</th>\n",
       "      <th>Relative_Humidity</th>\n",
       "      <th>Offset_fault</th>\n",
       "    </tr>\n",
       "  </thead>\n",
       "  <tbody>\n",
       "    <tr>\n",
       "      <th>0</th>\n",
       "      <td>ID_QF0ZTQJ2SF5Q</td>\n",
       "      <td>2021-11-03 04:06:31</td>\n",
       "      <td>52.58</td>\n",
       "      <td>49.52</td>\n",
       "      <td>17.4</td>\n",
       "      <td>96.0</td>\n",
       "      <td>0.0</td>\n",
       "    </tr>\n",
       "    <tr>\n",
       "      <th>1</th>\n",
       "      <td>ID_4GTK689CNX5S</td>\n",
       "      <td>2021-11-08 18:43:23</td>\n",
       "      <td>35.25</td>\n",
       "      <td>33.40</td>\n",
       "      <td>25.0</td>\n",
       "      <td>75.0</td>\n",
       "      <td>0.0</td>\n",
       "    </tr>\n",
       "    <tr>\n",
       "      <th>2</th>\n",
       "      <td>ID_DL7VVKW9U7XQ</td>\n",
       "      <td>2021-11-07 09:50:33</td>\n",
       "      <td>19.18</td>\n",
       "      <td>23.50</td>\n",
       "      <td>24.9</td>\n",
       "      <td>75.0</td>\n",
       "      <td>0.0</td>\n",
       "    </tr>\n",
       "    <tr>\n",
       "      <th>3</th>\n",
       "      <td>ID_6XQOMBXM2DG3</td>\n",
       "      <td>2022-01-01 18:55:15</td>\n",
       "      <td>19.40</td>\n",
       "      <td>15.48</td>\n",
       "      <td>24.9</td>\n",
       "      <td>70.0</td>\n",
       "      <td>0.0</td>\n",
       "    </tr>\n",
       "    <tr>\n",
       "      <th>4</th>\n",
       "      <td>ID_UQZW9ISJY9QE</td>\n",
       "      <td>2021-11-05 22:23:48</td>\n",
       "      <td>38.30</td>\n",
       "      <td>34.77</td>\n",
       "      <td>20.9</td>\n",
       "      <td>89.0</td>\n",
       "      <td>0.0</td>\n",
       "    </tr>\n",
       "    <tr>\n",
       "      <th>...</th>\n",
       "      <td>...</td>\n",
       "      <td>...</td>\n",
       "      <td>...</td>\n",
       "      <td>...</td>\n",
       "      <td>...</td>\n",
       "      <td>...</td>\n",
       "      <td>...</td>\n",
       "    </tr>\n",
       "    <tr>\n",
       "      <th>424533</th>\n",
       "      <td>ID_HNCS9Q2GNCQB</td>\n",
       "      <td>2022-02-13 00:37:14</td>\n",
       "      <td>33.65</td>\n",
       "      <td>42.23</td>\n",
       "      <td>NaN</td>\n",
       "      <td>NaN</td>\n",
       "      <td>NaN</td>\n",
       "    </tr>\n",
       "    <tr>\n",
       "      <th>424534</th>\n",
       "      <td>ID_GIIQYTE11L3H</td>\n",
       "      <td>2022-03-09 16:26:42</td>\n",
       "      <td>21.23</td>\n",
       "      <td>15.72</td>\n",
       "      <td>NaN</td>\n",
       "      <td>NaN</td>\n",
       "      <td>NaN</td>\n",
       "    </tr>\n",
       "    <tr>\n",
       "      <th>424535</th>\n",
       "      <td>ID_EC7F1P4GXKCL</td>\n",
       "      <td>2022-02-18 14:47:28</td>\n",
       "      <td>41.45</td>\n",
       "      <td>47.25</td>\n",
       "      <td>NaN</td>\n",
       "      <td>NaN</td>\n",
       "      <td>NaN</td>\n",
       "    </tr>\n",
       "    <tr>\n",
       "      <th>424536</th>\n",
       "      <td>ID_J64RVG2BRAG0</td>\n",
       "      <td>2022-03-11 19:14:11</td>\n",
       "      <td>28.60</td>\n",
       "      <td>27.27</td>\n",
       "      <td>NaN</td>\n",
       "      <td>NaN</td>\n",
       "      <td>NaN</td>\n",
       "    </tr>\n",
       "    <tr>\n",
       "      <th>424537</th>\n",
       "      <td>ID_7ABZNHCIVVAV</td>\n",
       "      <td>2022-03-11 01:51:28</td>\n",
       "      <td>41.87</td>\n",
       "      <td>39.82</td>\n",
       "      <td>NaN</td>\n",
       "      <td>NaN</td>\n",
       "      <td>NaN</td>\n",
       "    </tr>\n",
       "  </tbody>\n",
       "</table>\n",
       "<p>424538 rows × 7 columns</p>\n",
       "</div>"
      ],
      "text/plain": [
       "                     ID             Datetime  Sensor1_PM2.5  Sensor2_PM2.5  \\\n",
       "0       ID_QF0ZTQJ2SF5Q  2021-11-03 04:06:31          52.58          49.52   \n",
       "1       ID_4GTK689CNX5S  2021-11-08 18:43:23          35.25          33.40   \n",
       "2       ID_DL7VVKW9U7XQ  2021-11-07 09:50:33          19.18          23.50   \n",
       "3       ID_6XQOMBXM2DG3  2022-01-01 18:55:15          19.40          15.48   \n",
       "4       ID_UQZW9ISJY9QE  2021-11-05 22:23:48          38.30          34.77   \n",
       "...                 ...                  ...            ...            ...   \n",
       "424533  ID_HNCS9Q2GNCQB  2022-02-13 00:37:14          33.65          42.23   \n",
       "424534  ID_GIIQYTE11L3H  2022-03-09 16:26:42          21.23          15.72   \n",
       "424535  ID_EC7F1P4GXKCL  2022-02-18 14:47:28          41.45          47.25   \n",
       "424536  ID_J64RVG2BRAG0  2022-03-11 19:14:11          28.60          27.27   \n",
       "424537  ID_7ABZNHCIVVAV  2022-03-11 01:51:28          41.87          39.82   \n",
       "\n",
       "        Temperature  Relative_Humidity  Offset_fault  \n",
       "0              17.4               96.0           0.0  \n",
       "1              25.0               75.0           0.0  \n",
       "2              24.9               75.0           0.0  \n",
       "3              24.9               70.0           0.0  \n",
       "4              20.9               89.0           0.0  \n",
       "...             ...                ...           ...  \n",
       "424533          NaN                NaN           NaN  \n",
       "424534          NaN                NaN           NaN  \n",
       "424535          NaN                NaN           NaN  \n",
       "424536          NaN                NaN           NaN  \n",
       "424537          NaN                NaN           NaN  \n",
       "\n",
       "[424538 rows x 7 columns]"
      ]
     },
     "execution_count": 11,
     "metadata": {},
     "output_type": "execute_result"
    }
   ],
   "source": [
    "df = pd.concat([trainDf, testDf])\n",
    "df = df.reset_index().drop('index', axis = 1)\n",
    "df"
   ]
  },
  {
   "cell_type": "code",
   "execution_count": 12,
   "id": "f0aa61d4-2960-48f7-8278-eba6e9d38f7d",
   "metadata": {},
   "outputs": [
    {
     "name": "stdout",
     "output_type": "stream",
     "text": [
      "<class 'pandas.core.frame.DataFrame'>\n",
      "RangeIndex: 424538 entries, 0 to 424537\n",
      "Data columns (total 7 columns):\n",
      " #   Column             Non-Null Count   Dtype  \n",
      "---  ------             --------------   -----  \n",
      " 0   ID                 424538 non-null  object \n",
      " 1   Datetime           424538 non-null  object \n",
      " 2   Sensor1_PM2.5      420924 non-null  float64\n",
      " 3   Sensor2_PM2.5      420924 non-null  float64\n",
      " 4   Temperature        332899 non-null  float64\n",
      " 5   Relative_Humidity  332899 non-null  float64\n",
      " 6   Offset_fault       297177 non-null  float64\n",
      "dtypes: float64(5), object(2)\n",
      "memory usage: 22.7+ MB\n"
     ]
    }
   ],
   "source": [
    "df.info()"
   ]
  },
  {
   "cell_type": "code",
   "execution_count": 13,
   "id": "ce75eee7-299b-4b1a-87fb-6c2a47eb6b57",
   "metadata": {},
   "outputs": [
    {
     "data": {
      "text/plain": [
       "ID                    object\n",
       "Datetime              object\n",
       "Sensor1_PM2.5        float64\n",
       "Sensor2_PM2.5        float64\n",
       "Temperature          float64\n",
       "Relative_Humidity    float64\n",
       "Offset_fault         float64\n",
       "dtype: object"
      ]
     },
     "execution_count": 13,
     "metadata": {},
     "output_type": "execute_result"
    }
   ],
   "source": [
    "df.dtypes"
   ]
  },
  {
   "cell_type": "code",
   "execution_count": 14,
   "id": "eb50ea74-ccad-4b4a-b6fe-57ab156c2639",
   "metadata": {},
   "outputs": [],
   "source": [
    "df['Datetime'] = pd.to_datetime(df['Datetime'])"
   ]
  },
  {
   "cell_type": "code",
   "execution_count": 15,
   "id": "5ff3156d-decb-42de-b383-a45607b8ca74",
   "metadata": {},
   "outputs": [
    {
     "data": {
      "image/png": "[encoded data removed]",
      "text/plain": [
       "<Figure size 432x288 with 1 Axes>"
      ]
     },
     "metadata": {
      "needs_background": "light"
     },
     "output_type": "display_data"
    }
   ],
   "source": [
    "sns.barplot(x = df.isnull().sum(), y = df.columns)\n",
    "plt.title('Number of missing values')\n",
    "plt.show()"
   ]
  },
  {
   "cell_type": "markdown",
   "id": "f4d2aa76-5659-42c4-a65b-76422b714e5b",
   "metadata": {},
   "source": [
    "#### Missing Values"
   ]
  },
  {
   "cell_type": "code",
   "execution_count": 16,
   "id": "bb98c2aa-1bc9-4d7e-bff7-d0c5810c0b9d",
   "metadata": {},
   "outputs": [
    {
     "data": {
      "text/plain": [
       "ID                    0.000000\n",
       "Datetime              0.000000\n",
       "Sensor1_PM2.5         0.851278\n",
       "Sensor2_PM2.5         0.851278\n",
       "Temperature          21.585582\n",
       "Relative_Humidity    21.585582\n",
       "Offset_fault         29.999906\n",
       "dtype: float64"
      ]
     },
     "execution_count": 16,
     "metadata": {},
     "output_type": "execute_result"
    }
   ],
   "source": [
    "percentMissing = df.isnull().sum() * 100/len(df)\n",
    "percentMissing"
   ]
  },
  {
   "cell_type": "code",
   "execution_count": 17,
   "id": "052e3f9c-7693-4412-8291-c10168d56b80",
   "metadata": {},
   "outputs": [
    {
     "data": {
      "image/png": "[encoded data removed]",
      "text/plain": [
       "<Figure size 432x288 with 1 Axes>"
      ]
     },
     "metadata": {
      "needs_background": "light"
     },
     "output_type": "display_data"
    }
   ],
   "source": [
    "sns.barplot(x = percentMissing, y = df.columns)\n",
    "plt.title(\"Percentage of Missing Values\")\n",
    "plt.show()"
   ]
  },
  {
   "cell_type": "code",
   "execution_count": 18,
   "id": "431a19c2-b5ff-41b0-829e-27608618c9ce",
   "metadata": {},
   "outputs": [
    {
     "data": {
      "image/png": "[encoded data removed]",
      "text/plain": [
       "<Figure size 720x576 with 2 Axes>"
      ]
     },
     "metadata": {
      "needs_background": "light"
     },
     "output_type": "display_data"
    }
   ],
   "source": [
    "plt.figure(figsize = (10, 8))\n",
    "sns.heatmap(data = df[df.columns.drop(['ID', 'Datetime'])])\n",
    "plt.show()"
   ]
  },
  {
   "cell_type": "code",
   "execution_count": 19,
   "id": "3780c1c9-a857-435f-8973-5e458eefb5f5",
   "metadata": {},
   "outputs": [
    {
     "data": {
      "text/html": [
       "<div>\n",
       "<style scoped>\n",
       "    .dataframe tbody tr th:only-of-type {\n",
       "        vertical-align: middle;\n",
       "    }\n",
       "\n",
       "    .dataframe tbody tr th {\n",
       "        vertical-align: top;\n",
       "    }\n",
       "\n",
       "    .dataframe thead th {\n",
       "        text-align: right;\n",
       "    }\n",
       "</style>\n",
       "<table border=\"1\" class=\"dataframe\">\n",
       "  <thead>\n",
       "    <tr style=\"text-align: right;\">\n",
       "      <th></th>\n",
       "      <th>ID</th>\n",
       "      <th>Datetime</th>\n",
       "      <th>Sensor1_PM2.5</th>\n",
       "      <th>Sensor2_PM2.5</th>\n",
       "      <th>Temperature</th>\n",
       "      <th>Relative_Humidity</th>\n",
       "      <th>Offset_fault</th>\n",
       "    </tr>\n",
       "  </thead>\n",
       "  <tbody>\n",
       "    <tr>\n",
       "      <th>0</th>\n",
       "      <td>ID_QF0ZTQJ2SF5Q</td>\n",
       "      <td>2021-11-03 04:06:31</td>\n",
       "      <td>52.58</td>\n",
       "      <td>49.52</td>\n",
       "      <td>17.4</td>\n",
       "      <td>96.0</td>\n",
       "      <td>0.0</td>\n",
       "    </tr>\n",
       "    <tr>\n",
       "      <th>1</th>\n",
       "      <td>ID_4GTK689CNX5S</td>\n",
       "      <td>2021-11-08 18:43:23</td>\n",
       "      <td>35.25</td>\n",
       "      <td>33.40</td>\n",
       "      <td>25.0</td>\n",
       "      <td>75.0</td>\n",
       "      <td>0.0</td>\n",
       "    </tr>\n",
       "    <tr>\n",
       "      <th>2</th>\n",
       "      <td>ID_DL7VVKW9U7XQ</td>\n",
       "      <td>2021-11-07 09:50:33</td>\n",
       "      <td>19.18</td>\n",
       "      <td>23.50</td>\n",
       "      <td>24.9</td>\n",
       "      <td>75.0</td>\n",
       "      <td>0.0</td>\n",
       "    </tr>\n",
       "    <tr>\n",
       "      <th>3</th>\n",
       "      <td>ID_6XQOMBXM2DG3</td>\n",
       "      <td>2022-01-01 18:55:15</td>\n",
       "      <td>19.40</td>\n",
       "      <td>15.48</td>\n",
       "      <td>24.9</td>\n",
       "      <td>70.0</td>\n",
       "      <td>0.0</td>\n",
       "    </tr>\n",
       "    <tr>\n",
       "      <th>4</th>\n",
       "      <td>ID_UQZW9ISJY9QE</td>\n",
       "      <td>2021-11-05 22:23:48</td>\n",
       "      <td>38.30</td>\n",
       "      <td>34.77</td>\n",
       "      <td>20.9</td>\n",
       "      <td>89.0</td>\n",
       "      <td>0.0</td>\n",
       "    </tr>\n",
       "  </tbody>\n",
       "</table>\n",
       "</div>"
      ],
      "text/plain": [
       "                ID            Datetime  Sensor1_PM2.5  Sensor2_PM2.5  \\\n",
       "0  ID_QF0ZTQJ2SF5Q 2021-11-03 04:06:31          52.58          49.52   \n",
       "1  ID_4GTK689CNX5S 2021-11-08 18:43:23          35.25          33.40   \n",
       "2  ID_DL7VVKW9U7XQ 2021-11-07 09:50:33          19.18          23.50   \n",
       "3  ID_6XQOMBXM2DG3 2022-01-01 18:55:15          19.40          15.48   \n",
       "4  ID_UQZW9ISJY9QE 2021-11-05 22:23:48          38.30          34.77   \n",
       "\n",
       "   Temperature  Relative_Humidity  Offset_fault  \n",
       "0         17.4               96.0           0.0  \n",
       "1         25.0               75.0           0.0  \n",
       "2         24.9               75.0           0.0  \n",
       "3         24.9               70.0           0.0  \n",
       "4         20.9               89.0           0.0  "
      ]
     },
     "execution_count": 19,
     "metadata": {},
     "output_type": "execute_result"
    }
   ],
   "source": [
    "df.head()"
   ]
  },
  {
   "cell_type": "markdown",
   "id": "a5c09d4d-1f99-4853-96b5-f64aeefa2ab0",
   "metadata": {},
   "source": [
    "### Feature Engineering"
   ]
  },
  {
   "cell_type": "code",
   "execution_count": 20,
   "id": "7ddfe054-d8d5-42ee-bdef-770fe7fa2f4a",
   "metadata": {},
   "outputs": [
    {
     "data": {
      "text/html": [
       "<div>\n",
       "<style scoped>\n",
       "    .dataframe tbody tr th:only-of-type {\n",
       "        vertical-align: middle;\n",
       "    }\n",
       "\n",
       "    .dataframe tbody tr th {\n",
       "        vertical-align: top;\n",
       "    }\n",
       "\n",
       "    .dataframe thead th {\n",
       "        text-align: right;\n",
       "    }\n",
       "</style>\n",
       "<table border=\"1\" class=\"dataframe\">\n",
       "  <thead>\n",
       "    <tr style=\"text-align: right;\">\n",
       "      <th></th>\n",
       "      <th>ID</th>\n",
       "      <th>Datetime</th>\n",
       "      <th>Sensor1_PM2.5</th>\n",
       "      <th>Sensor2_PM2.5</th>\n",
       "      <th>Temperature</th>\n",
       "      <th>Relative_Humidity</th>\n",
       "      <th>Offset_fault</th>\n",
       "      <th>Year</th>\n",
       "      <th>Month</th>\n",
       "      <th>Day</th>\n",
       "      <th>Hour</th>\n",
       "    </tr>\n",
       "  </thead>\n",
       "  <tbody>\n",
       "    <tr>\n",
       "      <th>0</th>\n",
       "      <td>ID_QF0ZTQJ2SF5Q</td>\n",
       "      <td>2021-11-03 04:06:31</td>\n",
       "      <td>52.58</td>\n",
       "      <td>49.52</td>\n",
       "      <td>17.4</td>\n",
       "      <td>96.0</td>\n",
       "      <td>0.0</td>\n",
       "      <td>2021</td>\n",
       "      <td>11</td>\n",
       "      <td>3</td>\n",
       "      <td>4</td>\n",
       "    </tr>\n",
       "    <tr>\n",
       "      <th>1</th>\n",
       "      <td>ID_4GTK689CNX5S</td>\n",
       "      <td>2021-11-08 18:43:23</td>\n",
       "      <td>35.25</td>\n",
       "      <td>33.40</td>\n",
       "      <td>25.0</td>\n",
       "      <td>75.0</td>\n",
       "      <td>0.0</td>\n",
       "      <td>2021</td>\n",
       "      <td>11</td>\n",
       "      <td>8</td>\n",
       "      <td>18</td>\n",
       "    </tr>\n",
       "    <tr>\n",
       "      <th>2</th>\n",
       "      <td>ID_DL7VVKW9U7XQ</td>\n",
       "      <td>2021-11-07 09:50:33</td>\n",
       "      <td>19.18</td>\n",
       "      <td>23.50</td>\n",
       "      <td>24.9</td>\n",
       "      <td>75.0</td>\n",
       "      <td>0.0</td>\n",
       "      <td>2021</td>\n",
       "      <td>11</td>\n",
       "      <td>7</td>\n",
       "      <td>9</td>\n",
       "    </tr>\n",
       "    <tr>\n",
       "      <th>3</th>\n",
       "      <td>ID_6XQOMBXM2DG3</td>\n",
       "      <td>2022-01-01 18:55:15</td>\n",
       "      <td>19.40</td>\n",
       "      <td>15.48</td>\n",
       "      <td>24.9</td>\n",
       "      <td>70.0</td>\n",
       "      <td>0.0</td>\n",
       "      <td>2022</td>\n",
       "      <td>1</td>\n",
       "      <td>1</td>\n",
       "      <td>18</td>\n",
       "    </tr>\n",
       "    <tr>\n",
       "      <th>4</th>\n",
       "      <td>ID_UQZW9ISJY9QE</td>\n",
       "      <td>2021-11-05 22:23:48</td>\n",
       "      <td>38.30</td>\n",
       "      <td>34.77</td>\n",
       "      <td>20.9</td>\n",
       "      <td>89.0</td>\n",
       "      <td>0.0</td>\n",
       "      <td>2021</td>\n",
       "      <td>11</td>\n",
       "      <td>5</td>\n",
       "      <td>22</td>\n",
       "    </tr>\n",
       "  </tbody>\n",
       "</table>\n",
       "</div>"
      ],
      "text/plain": [
       "                ID            Datetime  Sensor1_PM2.5  Sensor2_PM2.5  \\\n",
       "0  ID_QF0ZTQJ2SF5Q 2021-11-03 04:06:31          52.58          49.52   \n",
       "1  ID_4GTK689CNX5S 2021-11-08 18:43:23          35.25          33.40   \n",
       "2  ID_DL7VVKW9U7XQ 2021-11-07 09:50:33          19.18          23.50   \n",
       "3  ID_6XQOMBXM2DG3 2022-01-01 18:55:15          19.40          15.48   \n",
       "4  ID_UQZW9ISJY9QE 2021-11-05 22:23:48          38.30          34.77   \n",
       "\n",
       "   Temperature  Relative_Humidity  Offset_fault  Year  Month  Day  Hour  \n",
       "0         17.4               96.0           0.0  2021     11    3     4  \n",
       "1         25.0               75.0           0.0  2021     11    8    18  \n",
       "2         24.9               75.0           0.0  2021     11    7     9  \n",
       "3         24.9               70.0           0.0  2022      1    1    18  \n",
       "4         20.9               89.0           0.0  2021     11    5    22  "
      ]
     },
     "execution_count": 20,
     "metadata": {},
     "output_type": "execute_result"
    }
   ],
   "source": [
    "df['Year'] = df.Datetime.dt.year\n",
    "df['Month'] = df.Datetime.dt.month\n",
    "df['Day'] = df.Datetime.dt.day\n",
    "df['Hour'] = df.Datetime.dt.hour\n",
    "df.head()"
   ]
  },
  {
   "cell_type": "code",
   "execution_count": 21,
   "id": "8c06a410-dd68-4be1-ac67-2bb6875e2a71",
   "metadata": {},
   "outputs": [
    {
     "data": {
      "text/html": [
       "<div>\n",
       "<style scoped>\n",
       "    .dataframe tbody tr th:only-of-type {\n",
       "        vertical-align: middle;\n",
       "    }\n",
       "\n",
       "    .dataframe tbody tr th {\n",
       "        vertical-align: top;\n",
       "    }\n",
       "\n",
       "    .dataframe thead th {\n",
       "        text-align: right;\n",
       "    }\n",
       "</style>\n",
       "<table border=\"1\" class=\"dataframe\">\n",
       "  <thead>\n",
       "    <tr style=\"text-align: right;\">\n",
       "      <th></th>\n",
       "      <th></th>\n",
       "      <th>Day</th>\n",
       "    </tr>\n",
       "    <tr>\n",
       "      <th>Year</th>\n",
       "      <th>Month</th>\n",
       "      <th></th>\n",
       "    </tr>\n",
       "  </thead>\n",
       "  <tbody>\n",
       "    <tr>\n",
       "      <th rowspan=\"3\" valign=\"top\">2021</th>\n",
       "      <th>10</th>\n",
       "      <td>1162202</td>\n",
       "    </tr>\n",
       "    <tr>\n",
       "      <th>11</th>\n",
       "      <td>1423980</td>\n",
       "    </tr>\n",
       "    <tr>\n",
       "      <th>12</th>\n",
       "      <td>1505817</td>\n",
       "    </tr>\n",
       "    <tr>\n",
       "      <th rowspan=\"3\" valign=\"top\">2022</th>\n",
       "      <th>1</th>\n",
       "      <td>1309709</td>\n",
       "    </tr>\n",
       "    <tr>\n",
       "      <th>2</th>\n",
       "      <td>970380</td>\n",
       "    </tr>\n",
       "    <tr>\n",
       "      <th>3</th>\n",
       "      <td>275919</td>\n",
       "    </tr>\n",
       "  </tbody>\n",
       "</table>\n",
       "</div>"
      ],
      "text/plain": [
       "                Day\n",
       "Year Month         \n",
       "2021 10     1162202\n",
       "     11     1423980\n",
       "     12     1505817\n",
       "2022 1      1309709\n",
       "     2       970380\n",
       "     3       275919"
      ]
     },
     "execution_count": 21,
     "metadata": {},
     "output_type": "execute_result"
    }
   ],
   "source": [
    "df[['Year', 'Month', 'Day']].groupby(['Year', 'Month']).sum()"
   ]
  },
  {
   "cell_type": "code",
   "execution_count": 22,
   "id": "344c7a98-011e-4581-8afa-8195ae4d6bff",
   "metadata": {},
   "outputs": [
    {
     "data": {
      "text/html": [
       "<div>\n",
       "<style scoped>\n",
       "    .dataframe tbody tr th:only-of-type {\n",
       "        vertical-align: middle;\n",
       "    }\n",
       "\n",
       "    .dataframe tbody tr th {\n",
       "        vertical-align: top;\n",
       "    }\n",
       "\n",
       "    .dataframe thead th {\n",
       "        text-align: right;\n",
       "    }\n",
       "</style>\n",
       "<table border=\"1\" class=\"dataframe\">\n",
       "  <thead>\n",
       "    <tr style=\"text-align: right;\">\n",
       "      <th></th>\n",
       "      <th>Temperature</th>\n",
       "    </tr>\n",
       "    <tr>\n",
       "      <th>Month</th>\n",
       "      <th></th>\n",
       "    </tr>\n",
       "  </thead>\n",
       "  <tbody>\n",
       "    <tr>\n",
       "      <th>1</th>\n",
       "      <td>23.443993</td>\n",
       "    </tr>\n",
       "    <tr>\n",
       "      <th>2</th>\n",
       "      <td>22.768774</td>\n",
       "    </tr>\n",
       "    <tr>\n",
       "      <th>3</th>\n",
       "      <td>NaN</td>\n",
       "    </tr>\n",
       "    <tr>\n",
       "      <th>10</th>\n",
       "      <td>23.309733</td>\n",
       "    </tr>\n",
       "    <tr>\n",
       "      <th>11</th>\n",
       "      <td>23.133447</td>\n",
       "    </tr>\n",
       "    <tr>\n",
       "      <th>12</th>\n",
       "      <td>23.635840</td>\n",
       "    </tr>\n",
       "  </tbody>\n",
       "</table>\n",
       "</div>"
      ],
      "text/plain": [
       "       Temperature\n",
       "Month             \n",
       "1        23.443993\n",
       "2        22.768774\n",
       "3              NaN\n",
       "10       23.309733\n",
       "11       23.133447\n",
       "12       23.635840"
      ]
     },
     "execution_count": 22,
     "metadata": {},
     "output_type": "execute_result"
    }
   ],
   "source": [
    "df[['Temperature', 'Month']].groupby('Month').mean()"
   ]
  },
  {
   "cell_type": "code",
   "execution_count": 23,
   "id": "e4ea777c-a823-4db4-a6ac-d9c93f59e49f",
   "metadata": {},
   "outputs": [
    {
     "data": {
      "text/plain": [
       "ID                       ID_0001Z29CH9SP\n",
       "Datetime             2021-10-26 02:03:01\n",
       "Sensor1_PM2.5                      40.77\n",
       "Sensor2_PM2.5                      35.07\n",
       "Temperature                         20.3\n",
       "Relative_Humidity                   91.0\n",
       "Offset_fault                         0.0\n",
       "Year                              2021.0\n",
       "Month                               12.0\n",
       "Day                                  3.0\n",
       "Hour                                 2.0\n",
       "Name: 0, dtype: object"
      ]
     },
     "execution_count": 23,
     "metadata": {},
     "output_type": "execute_result"
    }
   ],
   "source": [
    "df.mode().iloc[0]"
   ]
  },
  {
   "cell_type": "code",
   "execution_count": 24,
   "id": "79f727c2-880e-4cfa-863f-426de987f6a2",
   "metadata": {},
   "outputs": [
    {
     "data": {
      "text/plain": [
       "1990"
      ]
     },
     "execution_count": 24,
     "metadata": {},
     "output_type": "execute_result"
    }
   ],
   "source": [
    "df[df['Month'] == 1]['Relative_Humidity'].isnull().sum()"
   ]
  },
  {
   "cell_type": "code",
   "execution_count": 25,
   "id": "616c6979-626d-4df4-9242-a090117eec72",
   "metadata": {},
   "outputs": [
    {
     "data": {
      "text/plain": [
       "93.0    3329\n",
       "79.0    3017\n",
       "91.0    2881\n",
       "90.0    2775\n",
       "85.0    2646\n",
       "        ... \n",
       "38.0     233\n",
       "29.0     229\n",
       "42.0     133\n",
       "32.0     128\n",
       "28.0     118\n",
       "Name: Relative_Humidity, Length: 71, dtype: int64"
      ]
     },
     "execution_count": 25,
     "metadata": {},
     "output_type": "execute_result"
    }
   ],
   "source": [
    "df[df['Month'] == 1]['Relative_Humidity'].value_counts()"
   ]
  },
  {
   "cell_type": "code",
   "execution_count": 26,
   "id": "b4b719c9-f386-4a70-a934-fc8a2058535b",
   "metadata": {},
   "outputs": [
    {
     "data": {
      "text/plain": [
       "73.48074203676629"
      ]
     },
     "execution_count": 26,
     "metadata": {},
     "output_type": "execute_result"
    }
   ],
   "source": [
    "df[df['Month'] == 1]['Relative_Humidity'].mean()"
   ]
  },
  {
   "cell_type": "markdown",
   "id": "0c0c3b38-283f-42d0-89c1-e2608985e8d6",
   "metadata": {},
   "source": [
    "Fill the missing values with the mean "
   ]
  },
  {
   "cell_type": "code",
   "execution_count": 27,
   "id": "f1c7a5f2-293b-400c-9b33-d0a93f99efc0",
   "metadata": {},
   "outputs": [],
   "source": [
    "null_cols = ['Sensor1_PM2.5', 'Sensor2_PM2.5', 'Temperature',\n",
    "       'Relative_Humidity']\n",
    "df[null_cols] = df[null_cols].fillna(df[null_cols].mean())"
   ]
  },
  {
   "cell_type": "code",
   "execution_count": 28,
   "id": "1b9bb20d-a2a1-4952-86ad-ec2556b9b4ce",
   "metadata": {},
   "outputs": [
    {
     "name": "stdout",
     "output_type": "stream",
     "text": [
      "<class 'pandas.core.frame.DataFrame'>\n",
      "RangeIndex: 424538 entries, 0 to 424537\n",
      "Data columns (total 11 columns):\n",
      " #   Column             Non-Null Count   Dtype         \n",
      "---  ------             --------------   -----         \n",
      " 0   ID                 424538 non-null  object        \n",
      " 1   Datetime           424538 non-null  datetime64[ns]\n",
      " 2   Sensor1_PM2.5      424538 non-null  float64       \n",
      " 3   Sensor2_PM2.5      424538 non-null  float64       \n",
      " 4   Temperature        424538 non-null  float64       \n",
      " 5   Relative_Humidity  424538 non-null  float64       \n",
      " 6   Offset_fault       297177 non-null  float64       \n",
      " 7   Year               424538 non-null  int64         \n",
      " 8   Month              424538 non-null  int64         \n",
      " 9   Day                424538 non-null  int64         \n",
      " 10  Hour               424538 non-null  int64         \n",
      "dtypes: datetime64[ns](1), float64(5), int64(4), object(1)\n",
      "memory usage: 35.6+ MB\n"
     ]
    }
   ],
   "source": [
    "df.info()"
   ]
  },
  {
   "cell_type": "code",
   "execution_count": 29,
   "id": "dc6d863b-ec71-49a2-b864-80084f542ef8",
   "metadata": {},
   "outputs": [
    {
     "data": {
      "text/plain": [
       "Sensor1_PM2.5        41.369707\n",
       "Sensor2_PM2.5        39.930512\n",
       "Temperature          23.359881\n",
       "Relative_Humidity    77.894178\n",
       "dtype: float64"
      ]
     },
     "execution_count": 29,
     "metadata": {},
     "output_type": "execute_result"
    }
   ],
   "source": [
    "df[['Sensor1_PM2.5', 'Sensor2_PM2.5', 'Temperature',\n",
    "       'Relative_Humidity']].mean()"
   ]
  },
  {
   "cell_type": "code",
   "execution_count": 30,
   "id": "c18407f7-0ef6-49a0-8e16-83eb6553fab5",
   "metadata": {},
   "outputs": [
    {
     "data": {
      "text/plain": [
       "array([52.58, 35.25, 19.18, ..., 41.45, 28.6 , 41.87])"
      ]
     },
     "execution_count": 30,
     "metadata": {},
     "output_type": "execute_result"
    }
   ],
   "source": [
    "df[\"Sensor1_PM2.5\"].values"
   ]
  },
  {
   "cell_type": "markdown",
   "id": "53a3d411-3e97-4712-a4e0-5afaaec36222",
   "metadata": {},
   "source": [
    "#### Outliers"
   ]
  },
  {
   "cell_type": "code",
   "execution_count": 31,
   "id": "24298d5f-4064-4875-9343-56a405b35219",
   "metadata": {},
   "outputs": [
    {
     "name": "stderr",
     "output_type": "stream",
     "text": [
      "C:\\Users\\User\\anaconda3\\lib\\site-packages\\seaborn\\_decorators.py:36: FutureWarning: Pass the following variable as a keyword arg: x. From version 0.12, the only valid positional argument will be `data`, and passing other arguments without an explicit keyword will result in an error or misinterpretation.\n",
      "  warnings.warn(\n",
      "C:\\Users\\User\\anaconda3\\lib\\site-packages\\seaborn\\_decorators.py:36: FutureWarning: Pass the following variable as a keyword arg: x. From version 0.12, the only valid positional argument will be `data`, and passing other arguments without an explicit keyword will result in an error or misinterpretation.\n",
      "  warnings.warn(\n",
      "C:\\Users\\User\\anaconda3\\lib\\site-packages\\seaborn\\_decorators.py:36: FutureWarning: Pass the following variable as a keyword arg: x. From version 0.12, the only valid positional argument will be `data`, and passing other arguments without an explicit keyword will result in an error or misinterpretation.\n",
      "  warnings.warn(\n",
      "C:\\Users\\User\\anaconda3\\lib\\site-packages\\seaborn\\_decorators.py:36: FutureWarning: Pass the following variable as a keyword arg: x. From version 0.12, the only valid positional argument will be `data`, and passing other arguments without an explicit keyword will result in an error or misinterpretation.\n",
      "  warnings.warn(\n"
     ]
    },
    {
     "data": {
      "image/png": "[encoded data removed]",
      "text/plain": [
       "<Figure size 1080x720 with 4 Axes>"
      ]
     },
     "metadata": {},
     "output_type": "display_data"
    }
   ],
   "source": [
    "# Plotting boxplots for each of the numerical columns\n",
    "sns.set_style('darkgrid')\n",
    "fig, axes = plt.subplots(nrows = 2, ncols = 2, figsize = (15, 10))\n",
    "fig.suptitle('Box plots showing outliers', y= 0.93, fontsize = 15)\n",
    "\n",
    "for ax, data, name in zip(axes.flatten(), df, ['Sensor1_PM2.5',\t'Sensor2_PM2.5',\t'Temperature',\t'Relative_Humidity']):\n",
    "  sns.boxplot(df[name], ax = ax)"
   ]
  },
  {
   "cell_type": "code",
   "execution_count": 32,
   "id": "7da62224-3932-443d-b9af-b66b5942783b",
   "metadata": {},
   "outputs": [
    {
     "data": {
      "text/plain": [
       "\"trans_cols = ['Sensor1_PM2.5', 'Sensor2_PM2.5', 'Temperature', 'Relative_Humidity']\\nfor i in trans_cols:\\n    df[i] = np.log10(df[i])\\ndf.head()\""
      ]
     },
     "execution_count": 32,
     "metadata": {},
     "output_type": "execute_result"
    }
   ],
   "source": [
    "# Feature transformation\n",
    "'''trans_cols = ['Sensor1_PM2.5', 'Sensor2_PM2.5', 'Temperature', 'Relative_Humidity']\n",
    "for i in trans_cols:\n",
    "    df[i] = np.log10(df[i])\n",
    "df.head()'''"
   ]
  },
  {
   "cell_type": "code",
   "execution_count": 33,
   "id": "bf0bec46-2e1c-4c02-aad6-def6ec9da060",
   "metadata": {},
   "outputs": [
    {
     "data": {
      "text/plain": [
       "41.369707     3614\n",
       "40.770000      189\n",
       "43.520000      179\n",
       "39.950000      177\n",
       "42.080000      177\n",
       "              ... \n",
       "178.650000       1\n",
       "731.950000       1\n",
       "145.400000       1\n",
       "161.130000       1\n",
       "189.980000       1\n",
       "Name: Sensor1_PM2.5, Length: 10457, dtype: int64"
      ]
     },
     "execution_count": 33,
     "metadata": {},
     "output_type": "execute_result"
    }
   ],
   "source": [
    "df['Sensor1_PM2.5'].value_counts()"
   ]
  },
  {
   "cell_type": "markdown",
   "id": "a9ec6846-6814-44aa-bb6e-0aec48f58589",
   "metadata": {},
   "source": [
    "#### Split dataset into Training and Validation"
   ]
  },
  {
   "cell_type": "code",
   "execution_count": 34,
   "id": "fd5478e5-ee64-463f-9101-7e3bcda8ce2b",
   "metadata": {},
   "outputs": [],
   "source": [
    "train = df[df['Offset_fault'].notnull()].dropna()\n",
    "test = df[df['Offset_fault'].isnull()].drop('Offset_fault', axis = 1).dropna()"
   ]
  },
  {
   "cell_type": "code",
   "execution_count": 35,
   "id": "ae2a7d0c-1fae-4d79-bab3-9210ad73aec2",
   "metadata": {},
   "outputs": [
    {
     "data": {
      "text/plain": [
       "Index(['ID', 'Datetime', 'Sensor1_PM2.5', 'Sensor2_PM2.5', 'Temperature',\n",
       "       'Relative_Humidity', 'Offset_fault', 'Year', 'Month', 'Day', 'Hour'],\n",
       "      dtype='object')"
      ]
     },
     "execution_count": 35,
     "metadata": {},
     "output_type": "execute_result"
    }
   ],
   "source": [
    "train.columns"
   ]
  },
  {
   "cell_type": "code",
   "execution_count": 36,
   "id": "d51ec4b0-a060-4119-9399-1bf17b5f7eb4",
   "metadata": {},
   "outputs": [],
   "source": [
    "var = ['Sensor1_PM2.5', 'Sensor2_PM2.5', 'Temperature',\n",
    "       'Relative_Humidity', 'Year', 'Month', 'Day', 'Hour']"
   ]
  },
  {
   "cell_type": "code",
   "execution_count": 37,
   "id": "4641a3c4-bbf1-4ed0-93c0-e25afaba1c7b",
   "metadata": {},
   "outputs": [
    {
     "data": {
      "text/plain": [
       "\"features = ['Sensor1_PM2.5',\\n 'Sensor2_PM2.5',\\n 'Temperature',\\n 'Relative_Humidity']\""
      ]
     },
     "execution_count": 37,
     "metadata": {},
     "output_type": "execute_result"
    }
   ],
   "source": [
    "'''features = ['Sensor1_PM2.5',\n",
    " 'Sensor2_PM2.5',\n",
    " 'Temperature',\n",
    " 'Relative_Humidity']'''"
   ]
  },
  {
   "cell_type": "code",
   "execution_count": 38,
   "id": "358118fe-795e-4ca8-90f5-83a2ea11078d",
   "metadata": {},
   "outputs": [],
   "source": [
    "X_train, X_val, y_train, y_val = train_test_split(train[var].to_numpy(), train['Offset_fault'], test_size = 0.25)"
   ]
  },
  {
   "cell_type": "markdown",
   "id": "42637cdf-f225-4568-8fb0-8c5910dea40e",
   "metadata": {},
   "source": [
    "### Modelling"
   ]
  },
  {
   "cell_type": "markdown",
   "id": "d7366228-ff13-4941-8843-fa6f8d986e33",
   "metadata": {},
   "source": [
    "#### Logistic Regression"
   ]
  },
  {
   "cell_type": "code",
   "execution_count": 39,
   "id": "c403acab-7613-45b1-913f-3aa5a82f9c56",
   "metadata": {},
   "outputs": [
    {
     "name": "stderr",
     "output_type": "stream",
     "text": [
      "C:\\Users\\User\\anaconda3\\lib\\site-packages\\sklearn\\linear_model\\_logistic.py:763: ConvergenceWarning: lbfgs failed to converge (status=1):\n",
      "STOP: TOTAL NO. of ITERATIONS REACHED LIMIT.\n",
      "\n",
      "Increase the number of iterations (max_iter) or scale the data as shown in:\n",
      "    https://scikit-learn.org/stable/modules/preprocessing.html\n",
      "Please also refer to the documentation for alternative solver options:\n",
      "    https://scikit-learn.org/stable/modules/linear_model.html#logistic-regression\n",
      "  n_iter_i = _check_optimize_result(\n"
     ]
    }
   ],
   "source": [
    "lgr = LogisticRegression()\n",
    "lgr_model = lgr.fit(X_train, y_train)\n",
    "y_lgr = lgr_model.predict(X_val)"
   ]
  },
  {
   "cell_type": "code",
   "execution_count": 40,
   "id": "6f56ab60-db2d-4034-a6d3-6d27c6543b63",
   "metadata": {},
   "outputs": [
    {
     "data": {
      "text/plain": [
       "0.8970859411804294"
      ]
     },
     "execution_count": 40,
     "metadata": {},
     "output_type": "execute_result"
    }
   ],
   "source": [
    "lgr_model.score(X_val, y_val)"
   ]
  },
  {
   "cell_type": "markdown",
   "id": "8fad7104-b17f-4c0d-ba2f-f690066946f9",
   "metadata": {},
   "source": [
    "#### Random Forest Classifier"
   ]
  },
  {
   "cell_type": "code",
   "execution_count": 41,
   "id": "8da0ab38-7301-4c54-a720-bd9862c8a2ce",
   "metadata": {},
   "outputs": [],
   "source": [
    "rfc = RandomForestClassifier()\n",
    "rfc_model = rfc.fit(X_train, y_train)\n",
    "y_rfc = rfc_model.predict(X_val)"
   ]
  },
  {
   "cell_type": "code",
   "execution_count": 42,
   "id": "6befc714-23ed-4575-97ca-8fedb77587dd",
   "metadata": {},
   "outputs": [
    {
     "data": {
      "text/plain": [
       "0.9712362877717209"
      ]
     },
     "execution_count": 42,
     "metadata": {},
     "output_type": "execute_result"
    }
   ],
   "source": [
    "rfc_model.score(X_val, y_val)"
   ]
  },
  {
   "cell_type": "markdown",
   "id": "2c21c20d-872d-4c43-a6a4-7a4f18d49d0f",
   "metadata": {},
   "source": [
    "#### Decision Tree Classifier"
   ]
  },
  {
   "cell_type": "code",
   "execution_count": 43,
   "id": "eb04b979-0ad4-44c1-b8ef-a99a4cd1de37",
   "metadata": {},
   "outputs": [],
   "source": [
    "dct = DecisionTreeClassifier()\n",
    "dct_model = dct.fit(X_train, y_train)\n",
    "y_dct = dct_model.predict(X_val)"
   ]
  },
  {
   "cell_type": "code",
   "execution_count": 44,
   "id": "f821f950-4efe-4509-891b-7bf6bddc48a1",
   "metadata": {},
   "outputs": [
    {
     "data": {
      "text/plain": [
       "0.9292549969715324"
      ]
     },
     "execution_count": 44,
     "metadata": {},
     "output_type": "execute_result"
    }
   ],
   "source": [
    "dct_model.score(X_val, y_val)"
   ]
  },
  {
   "cell_type": "markdown",
   "id": "87d16209-a7ab-401f-87e0-9e172bc0e672",
   "metadata": {},
   "source": [
    "#### XGBoost Classifer"
   ]
  },
  {
   "cell_type": "code",
   "execution_count": 45,
   "id": "369fd54d-fe50-4ed3-a50f-00e6af3cced1",
   "metadata": {},
   "outputs": [
    {
     "name": "stderr",
     "output_type": "stream",
     "text": [
      "C:\\Users\\User\\anaconda3\\lib\\site-packages\\xgboost\\sklearn.py:1224: UserWarning: The use of label encoder in XGBClassifier is deprecated and will be removed in a future release. To remove this warning, do the following: 1) Pass option use_label_encoder=False when constructing XGBClassifier object; and 2) Encode your labels (y) as integers starting with 0, i.e. 0, 1, 2, ..., [num_class - 1].\n",
      "  warnings.warn(label_encoder_deprecation_msg, UserWarning)\n"
     ]
    },
    {
     "name": "stdout",
     "output_type": "stream",
     "text": [
      "[23:24:36] WARNING: ..\\src\\learner.cc:1115: Starting in XGBoost 1.3.0, the default evaluation metric used with the objective 'binary:logistic' was changed from 'error' to 'logloss'. Explicitly set eval_metric if you'd like to restore the old behavior.\n"
     ]
    }
   ],
   "source": [
    "xgb = XGBClassifier()\n",
    "xgb_model = xgb.fit(X_train, y_train)\n",
    "y_xgb = xgb_model.predict(X_val)"
   ]
  },
  {
   "cell_type": "code",
   "execution_count": 46,
   "id": "57243955-bc9f-45de-bbe8-ce2dca46c0ce",
   "metadata": {},
   "outputs": [
    {
     "data": {
      "text/plain": [
       "0.9559189716670031"
      ]
     },
     "execution_count": 46,
     "metadata": {},
     "output_type": "execute_result"
    }
   ],
   "source": [
    "xgb_model.score(X_val, y_val)"
   ]
  },
  {
   "cell_type": "markdown",
   "id": "10781907-d68d-49bd-9f19-4b459acaf86b",
   "metadata": {},
   "source": [
    "#### Extra Trees Classifier"
   ]
  },
  {
   "cell_type": "code",
   "execution_count": 47,
   "id": "968f5706-a402-40bb-b93d-6ff61801ffc2",
   "metadata": {},
   "outputs": [],
   "source": [
    "etc = ExtraTreesClassifier(random_state = 1)\n",
    "etc_model = etc.fit(X_train, y_train)\n",
    "y_etc = etc_model.predict(X_val)"
   ]
  },
  {
   "cell_type": "code",
   "execution_count": 48,
   "id": "6523528a-9c44-4e65-9fb5-5e2508ceb393",
   "metadata": {},
   "outputs": [
    {
     "data": {
      "text/plain": [
       "0.9695807254862373"
      ]
     },
     "execution_count": 48,
     "metadata": {},
     "output_type": "execute_result"
    }
   ],
   "source": [
    "etc_model.score(X_val, y_val)"
   ]
  },
  {
   "cell_type": "code",
   "execution_count": 49,
   "id": "3dd3793e-2d87-430a-9231-db34818b3050",
   "metadata": {},
   "outputs": [],
   "source": [
    "def model(mod):\n",
    "    mod.fit(X_train, y_train)\n",
    "    mod.predict(X_val)\n",
    "    return mod.score(X_val, y_val)"
   ]
  },
  {
   "cell_type": "code",
   "execution_count": 50,
   "id": "ef1abdb6-9cb4-4171-bbd5-e3161cd45c57",
   "metadata": {},
   "outputs": [
    {
     "data": {
      "text/plain": [
       "0.9695807254862373"
      ]
     },
     "execution_count": 50,
     "metadata": {},
     "output_type": "execute_result"
    }
   ],
   "source": [
    "model(etc)"
   ]
  },
  {
   "cell_type": "markdown",
   "id": "b94c8e23-9c46-46b8-8848-84535b17e268",
   "metadata": {},
   "source": [
    "#### Feature Selection"
   ]
  },
  {
   "cell_type": "code",
   "execution_count": 51,
   "id": "2e08cf44-8a70-489b-b5db-3821b90358a0",
   "metadata": {},
   "outputs": [],
   "source": [
    "# Building the model\n",
    "extra_tree_forest = ExtraTreesClassifier(n_estimators = 5,\n",
    "                                        criterion ='entropy', max_features = 2)\n",
    "  \n",
    "# Training the model\n",
    "extra_tree_forest.fit(train[var], train['Offset_fault'])\n",
    "  \n",
    "# Computing the importance of each feature\n",
    "feature_importance = extra_tree_forest.feature_importances_\n",
    "  \n",
    "# Normalizing the individual importances\n",
    "feature_importance_normalized = np.std([tree.feature_importances_ for tree in \n",
    "                                        extra_tree_forest.estimators_],\n",
    "                                        axis = 0)"
   ]
  },
  {
   "cell_type": "code",
   "execution_count": 52,
   "id": "a878dbc4-da3a-47fb-8664-c6c0e90063e7",
   "metadata": {},
   "outputs": [
    {
     "data": {
      "image/png": "[encoded data removed]",
      "text/plain": [
       "<Figure size 720x576 with 1 Axes>"
      ]
     },
     "metadata": {},
     "output_type": "display_data"
    }
   ],
   "source": [
    "# Plotting a Bar Graph to compare the models\n",
    "plt.figure(figsize = (10, 8))\n",
    "plt.bar(train[var].columns, feature_importance_normalized)\n",
    "plt.xlabel('Feature Labels')\n",
    "plt.ylabel('Feature Importances')\n",
    "plt.title('Comparison of different Feature Importances')\n",
    "plt.show()"
   ]
  },
  {
   "cell_type": "code",
   "execution_count": 53,
   "id": "f62c28d7-f716-4e2e-812a-04ca2ae737c8",
   "metadata": {},
   "outputs": [],
   "source": [
    "final_features = ['Sensor1_PM2.5', 'Sensor2_PM2.5', 'Temperature',\n",
    "       'Relative_Humidity', 'Month', 'Day']"
   ]
  },
  {
   "cell_type": "code",
   "execution_count": 54,
   "id": "ff1d8ab5-941b-49a2-8473-2020bffc37c1",
   "metadata": {},
   "outputs": [
    {
     "ename": "NameError",
     "evalue": "name 'features' is not defined",
     "output_type": "error",
     "traceback": [
      "\u001b[1;31m---------------------------------------------------------------------------\u001b[0m",
      "\u001b[1;31mNameError\u001b[0m                                 Traceback (most recent call last)",
      "\u001b[1;32m~\\AppData\\Local\\Temp/ipykernel_16360/3523779913.py\u001b[0m in \u001b[0;36m<module>\u001b[1;34m\u001b[0m\n\u001b[1;32m----> 1\u001b[1;33m \u001b[0mX_train\u001b[0m\u001b[1;33m,\u001b[0m \u001b[0mX_test\u001b[0m\u001b[1;33m,\u001b[0m \u001b[0my_train\u001b[0m\u001b[1;33m,\u001b[0m \u001b[0my_val\u001b[0m \u001b[1;33m=\u001b[0m \u001b[0mtrain_test_split\u001b[0m\u001b[1;33m(\u001b[0m\u001b[0mtrain\u001b[0m\u001b[1;33m[\u001b[0m\u001b[0mfeatures\u001b[0m\u001b[1;33m]\u001b[0m\u001b[1;33m.\u001b[0m\u001b[0mto_numpy\u001b[0m\u001b[1;33m(\u001b[0m\u001b[1;33m)\u001b[0m\u001b[1;33m,\u001b[0m \u001b[0mtrain\u001b[0m\u001b[1;33m[\u001b[0m\u001b[1;34m'Offset_fault'\u001b[0m\u001b[1;33m]\u001b[0m\u001b[1;33m,\u001b[0m \u001b[0mtest_size\u001b[0m \u001b[1;33m=\u001b[0m \u001b[1;36m0.25\u001b[0m\u001b[1;33m)\u001b[0m\u001b[1;33m\u001b[0m\u001b[1;33m\u001b[0m\u001b[0m\n\u001b[0m",
      "\u001b[1;31mNameError\u001b[0m: name 'features' is not defined"
     ]
    }
   ],
   "source": [
    "#X_train, X_test, y_train, y_val = train_test_split(train[var].to_numpy(), train['Offset_fault'], test_size = 0.25)"
   ]
  },
  {
   "cell_type": "code",
   "execution_count": 55,
   "id": "d3a71d7d-2dc6-42e2-b82f-5dc68df54daa",
   "metadata": {},
   "outputs": [],
   "source": [
    "Xtrain = train[final_features].to_numpy()\n",
    "ytrain = train['Offset_fault']\n",
    "X_test = test[final_features].to_numpy()\n",
    "y_test = []"
   ]
  },
  {
   "cell_type": "markdown",
   "id": "0c51a182-c3eb-4fef-93d3-29b59a03b7c3",
   "metadata": {},
   "source": [
    "#### Extra Trees Classifier Model"
   ]
  },
  {
   "cell_type": "code",
   "execution_count": 56,
   "id": "589a0819-10b6-414a-afe0-7cad32e84463",
   "metadata": {},
   "outputs": [],
   "source": [
    "extra_tree_forest.fit(Xtrain, ytrain)\n",
    "y_pred = extra_tree_forest.predict(X_test)"
   ]
  },
  {
   "cell_type": "code",
   "execution_count": 57,
   "id": "ee9e0bc6-70ce-495a-835b-a0f3e27b7537",
   "metadata": {},
   "outputs": [
    {
     "data": {
      "text/plain": [
       "127361"
      ]
     },
     "execution_count": 57,
     "metadata": {},
     "output_type": "execute_result"
    }
   ],
   "source": [
    "len(y_pred)"
   ]
  },
  {
   "cell_type": "code",
   "execution_count": 58,
   "id": "cfc9db7f-f893-43b2-9922-e599a3881bec",
   "metadata": {},
   "outputs": [
    {
     "data": {
      "text/html": [
       "<div>\n",
       "<style scoped>\n",
       "    .dataframe tbody tr th:only-of-type {\n",
       "        vertical-align: middle;\n",
       "    }\n",
       "\n",
       "    .dataframe tbody tr th {\n",
       "        vertical-align: top;\n",
       "    }\n",
       "\n",
       "    .dataframe thead th {\n",
       "        text-align: right;\n",
       "    }\n",
       "</style>\n",
       "<table border=\"1\" class=\"dataframe\">\n",
       "  <thead>\n",
       "    <tr style=\"text-align: right;\">\n",
       "      <th></th>\n",
       "      <th>ID</th>\n",
       "      <th>Datetime</th>\n",
       "      <th>Sensor1_PM2.5</th>\n",
       "      <th>Sensor2_PM2.5</th>\n",
       "      <th>Temperature</th>\n",
       "      <th>Relative_Humidity</th>\n",
       "    </tr>\n",
       "  </thead>\n",
       "  <tbody>\n",
       "    <tr>\n",
       "      <th>0</th>\n",
       "      <td>ID_STL3V9B2OU12</td>\n",
       "      <td>2022-01-28 08:49:41</td>\n",
       "      <td>90.75</td>\n",
       "      <td>114.78</td>\n",
       "      <td>22.2</td>\n",
       "      <td>56.0</td>\n",
       "    </tr>\n",
       "    <tr>\n",
       "      <th>1</th>\n",
       "      <td>ID_U2EKAY4SGA94</td>\n",
       "      <td>2022-02-16 21:30:17</td>\n",
       "      <td>56.03</td>\n",
       "      <td>52.18</td>\n",
       "      <td>NaN</td>\n",
       "      <td>NaN</td>\n",
       "    </tr>\n",
       "    <tr>\n",
       "      <th>2</th>\n",
       "      <td>ID_UJFLEWQR0U4N</td>\n",
       "      <td>2022-01-24 17:57:18</td>\n",
       "      <td>387.35</td>\n",
       "      <td>346.73</td>\n",
       "      <td>28.1</td>\n",
       "      <td>63.0</td>\n",
       "    </tr>\n",
       "    <tr>\n",
       "      <th>3</th>\n",
       "      <td>ID_S2C2GPGA4R5I</td>\n",
       "      <td>2022-01-31 07:07:09</td>\n",
       "      <td>63.17</td>\n",
       "      <td>83.85</td>\n",
       "      <td>21.6</td>\n",
       "      <td>82.0</td>\n",
       "    </tr>\n",
       "    <tr>\n",
       "      <th>4</th>\n",
       "      <td>ID_5V2C2ZL221H8</td>\n",
       "      <td>2022-01-31 00:37:05</td>\n",
       "      <td>69.23</td>\n",
       "      <td>53.07</td>\n",
       "      <td>22.7</td>\n",
       "      <td>80.0</td>\n",
       "    </tr>\n",
       "    <tr>\n",
       "      <th>...</th>\n",
       "      <td>...</td>\n",
       "      <td>...</td>\n",
       "      <td>...</td>\n",
       "      <td>...</td>\n",
       "      <td>...</td>\n",
       "      <td>...</td>\n",
       "    </tr>\n",
       "    <tr>\n",
       "      <th>127356</th>\n",
       "      <td>ID_HNCS9Q2GNCQB</td>\n",
       "      <td>2022-02-13 00:37:14</td>\n",
       "      <td>33.65</td>\n",
       "      <td>42.23</td>\n",
       "      <td>NaN</td>\n",
       "      <td>NaN</td>\n",
       "    </tr>\n",
       "    <tr>\n",
       "      <th>127357</th>\n",
       "      <td>ID_GIIQYTE11L3H</td>\n",
       "      <td>2022-03-09 16:26:42</td>\n",
       "      <td>21.23</td>\n",
       "      <td>15.72</td>\n",
       "      <td>NaN</td>\n",
       "      <td>NaN</td>\n",
       "    </tr>\n",
       "    <tr>\n",
       "      <th>127358</th>\n",
       "      <td>ID_EC7F1P4GXKCL</td>\n",
       "      <td>2022-02-18 14:47:28</td>\n",
       "      <td>41.45</td>\n",
       "      <td>47.25</td>\n",
       "      <td>NaN</td>\n",
       "      <td>NaN</td>\n",
       "    </tr>\n",
       "    <tr>\n",
       "      <th>127359</th>\n",
       "      <td>ID_J64RVG2BRAG0</td>\n",
       "      <td>2022-03-11 19:14:11</td>\n",
       "      <td>28.60</td>\n",
       "      <td>27.27</td>\n",
       "      <td>NaN</td>\n",
       "      <td>NaN</td>\n",
       "    </tr>\n",
       "    <tr>\n",
       "      <th>127360</th>\n",
       "      <td>ID_7ABZNHCIVVAV</td>\n",
       "      <td>2022-03-11 01:51:28</td>\n",
       "      <td>41.87</td>\n",
       "      <td>39.82</td>\n",
       "      <td>NaN</td>\n",
       "      <td>NaN</td>\n",
       "    </tr>\n",
       "  </tbody>\n",
       "</table>\n",
       "<p>127361 rows × 6 columns</p>\n",
       "</div>"
      ],
      "text/plain": [
       "                     ID             Datetime  Sensor1_PM2.5  Sensor2_PM2.5  \\\n",
       "0       ID_STL3V9B2OU12  2022-01-28 08:49:41          90.75         114.78   \n",
       "1       ID_U2EKAY4SGA94  2022-02-16 21:30:17          56.03          52.18   \n",
       "2       ID_UJFLEWQR0U4N  2022-01-24 17:57:18         387.35         346.73   \n",
       "3       ID_S2C2GPGA4R5I  2022-01-31 07:07:09          63.17          83.85   \n",
       "4       ID_5V2C2ZL221H8  2022-01-31 00:37:05          69.23          53.07   \n",
       "...                 ...                  ...            ...            ...   \n",
       "127356  ID_HNCS9Q2GNCQB  2022-02-13 00:37:14          33.65          42.23   \n",
       "127357  ID_GIIQYTE11L3H  2022-03-09 16:26:42          21.23          15.72   \n",
       "127358  ID_EC7F1P4GXKCL  2022-02-18 14:47:28          41.45          47.25   \n",
       "127359  ID_J64RVG2BRAG0  2022-03-11 19:14:11          28.60          27.27   \n",
       "127360  ID_7ABZNHCIVVAV  2022-03-11 01:51:28          41.87          39.82   \n",
       "\n",
       "        Temperature  Relative_Humidity  \n",
       "0              22.2               56.0  \n",
       "1               NaN                NaN  \n",
       "2              28.1               63.0  \n",
       "3              21.6               82.0  \n",
       "4              22.7               80.0  \n",
       "...             ...                ...  \n",
       "127356          NaN                NaN  \n",
       "127357          NaN                NaN  \n",
       "127358          NaN                NaN  \n",
       "127359          NaN                NaN  \n",
       "127360          NaN                NaN  \n",
       "\n",
       "[127361 rows x 6 columns]"
      ]
     },
     "execution_count": 58,
     "metadata": {},
     "output_type": "execute_result"
    }
   ],
   "source": [
    "testDf"
   ]
  },
  {
   "cell_type": "code",
   "execution_count": 59,
   "id": "a7266c4e-1608-400f-90a5-7c9b01bb843c",
   "metadata": {},
   "outputs": [
    {
     "data": {
      "text/html": [
       "<div>\n",
       "<style scoped>\n",
       "    .dataframe tbody tr th:only-of-type {\n",
       "        vertical-align: middle;\n",
       "    }\n",
       "\n",
       "    .dataframe tbody tr th {\n",
       "        vertical-align: top;\n",
       "    }\n",
       "\n",
       "    .dataframe thead th {\n",
       "        text-align: right;\n",
       "    }\n",
       "</style>\n",
       "<table border=\"1\" class=\"dataframe\">\n",
       "  <thead>\n",
       "    <tr style=\"text-align: right;\">\n",
       "      <th></th>\n",
       "      <th>ID</th>\n",
       "      <th>Offset_fault</th>\n",
       "    </tr>\n",
       "  </thead>\n",
       "  <tbody>\n",
       "    <tr>\n",
       "      <th>0</th>\n",
       "      <td>ID_STL3V9B2OU12</td>\n",
       "      <td>0.0</td>\n",
       "    </tr>\n",
       "    <tr>\n",
       "      <th>1</th>\n",
       "      <td>ID_U2EKAY4SGA94</td>\n",
       "      <td>0.0</td>\n",
       "    </tr>\n",
       "    <tr>\n",
       "      <th>2</th>\n",
       "      <td>ID_UJFLEWQR0U4N</td>\n",
       "      <td>0.0</td>\n",
       "    </tr>\n",
       "    <tr>\n",
       "      <th>3</th>\n",
       "      <td>ID_S2C2GPGA4R5I</td>\n",
       "      <td>0.0</td>\n",
       "    </tr>\n",
       "    <tr>\n",
       "      <th>4</th>\n",
       "      <td>ID_5V2C2ZL221H8</td>\n",
       "      <td>1.0</td>\n",
       "    </tr>\n",
       "  </tbody>\n",
       "</table>\n",
       "</div>"
      ],
      "text/plain": [
       "                ID  Offset_fault\n",
       "0  ID_STL3V9B2OU12           0.0\n",
       "1  ID_U2EKAY4SGA94           0.0\n",
       "2  ID_UJFLEWQR0U4N           0.0\n",
       "3  ID_S2C2GPGA4R5I           0.0\n",
       "4  ID_5V2C2ZL221H8           1.0"
      ]
     },
     "execution_count": 59,
     "metadata": {},
     "output_type": "execute_result"
    }
   ],
   "source": [
    "submissionDf = pd.DataFrame(y_pred, columns = ['Offset_fault'])\n",
    "submissionDf.index = testDf['ID']\n",
    "submissionDf = submissionDf.reset_index()\n",
    "submissionDf.head()"
   ]
  },
  {
   "cell_type": "code",
   "execution_count": 60,
   "id": "879e8f3c-8271-4815-b98d-40abf4bfa032",
   "metadata": {},
   "outputs": [],
   "source": [
    "submissionDf.to_csv('Ibraheem_Kekere-Ekun.csv', index = False)"
   ]
  },
  {
   "cell_type": "code",
   "execution_count": null,
   "id": "05326a8b-c768-4945-a924-ffe1f01fe548",
   "metadata": {},
   "outputs": [],
   "source": []
  }
 ],
 "metadata": {
  "kernelspec": {
   "display_name": "Python 3 (ipykernel)",
   "language": "python",
   "name": "python3"
  },
  "language_info": {
   "codemirror_mode": {
    "name": "ipython",
    "version": 3
   },
   "file_extension": ".py",
   "mimetype": "text/x-python",
   "name": "python",
   "nbconvert_exporter": "python",
   "pygments_lexer": "ipython3",
   "version": "3.9.7"
  }
 },
 "nbformat": 4,
 "nbformat_minor": 5
}
